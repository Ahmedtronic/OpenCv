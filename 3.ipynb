{
 "cells": [
  {
   "cell_type": "code",
   "execution_count": null,
   "metadata": {},
   "outputs": [],
   "source": [
    "import cv2\n",
    "cam = cv2.VideoCapture(0)\n",
    "h = cam.get(cv2.CAP_PROP_FRAME_HEIGHT)\n",
    "w = cam.get(cv2.CAP_PROP_FRAME_WIDTH)\n",
    "print (h,w)\n",
    "\n",
    "\n",
    "while cam.isOpened():\n",
    "    err,img = cam.read()\n",
    "    cv2.imshow(\"lalala\", img)\n",
    "    k = cv2.waitKey(10) & 0xff\n",
    "    if k==27:\n",
    "        break\n"
   ]
  },
  {
   "cell_type": "code",
   "execution_count": null,
   "metadata": {},
   "outputs": [],
   "source": []
  }
 ],
 "metadata": {
  "kernelspec": {
   "display_name": "Python 3",
   "language": "python",
   "name": "python3"
  },
  "language_info": {
   "codemirror_mode": {
    "name": "ipython",
    "version": 3
   },
   "file_extension": ".py",
   "mimetype": "text/x-python",
   "name": "python",
   "nbconvert_exporter": "python",
   "pygments_lexer": "ipython3",
   "version": "3.7.1"
  }
 },
 "nbformat": 4,
 "nbformat_minor": 4
}
